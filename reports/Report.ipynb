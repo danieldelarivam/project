{
 "cells": [
  {
   "cell_type": "markdown",
   "id": "719238a7-4670-4a8b-ac07-9d8d6855d60f",
   "metadata": {},
   "source": [
    "Import necessary libraries: The first few lines import the necessary libraries for loading and visualizing the dataset, training and evaluating the model, and creating the report."
   ]
  },
  {
   "cell_type": "code",
   "execution_count": null,
   "id": "56f75733-1004-4664-8706-d9216be1ef70",
   "metadata": {},
   "outputs": [],
   "source": [
    "import pandas as pd\n",
    "import matplotlib.pyplot as plt\n",
    "from sklearn.linear_model import LogisticRegression\n",
    "from sklearn.metrics import accuracy_score\n",
    "from sklearn.model_selection import train_test_split"
   ]
  },
  {
   "cell_type": "markdown",
   "id": "4b37d5ff-0f4d-4318-9400-5d4987508310",
   "metadata": {},
   "source": [
    "Load the dataset: The `pd.read_csv()` function is used to load the dataset from a CSV file and create a `pandas` dataframe."
   ]
  },
  {
   "cell_type": "code",
   "execution_count": null,
   "id": "3b5bd5af-94f4-473b-b170-dd363b153862",
   "metadata": {},
   "outputs": [],
   "source": [
    "# Load the dataset from a CSV file\n",
    "df = pd.read_csv(\"dataset.csv\")\n",
    "df.head()"
   ]
  },
  {
   "cell_type": "code",
   "execution_count": null,
   "id": "d392e9a2-bb10-42d0-b4a3-d401210b3756",
   "metadata": {},
   "outputs": [],
   "source": [
    "# Data exploration\n",
    "print(df.describe())"
   ]
  },
  {
   "cell_type": "markdown",
   "id": "defcc3aa-83fa-4adc-ad62-196dafc1ac5f",
   "metadata": {},
   "source": [
    "Visualize the dataset: The `plt.scatter()` function is used to create a scatter plot of the dataset, with different colors for each target class. The resulting plot is saved to a PNG file using `plt.savefig()`"
   ]
  },
  {
   "cell_type": "markdown",
   "id": "77e26ef7-f282-499b-9839-5dece80b8ec3",
   "metadata": {},
   "source": [
    "![Dataset.png](dataset-image.png)"
   ]
  },
  {
   "cell_type": "markdown",
   "id": "3660cd37-9f49-445c-b734-f4a301cc4e00",
   "metadata": {},
   "source": [
    "Split the data into training and testing sets: The `train_test_split()` function from scikit-learn is used to split the dataset into training and testing sets."
   ]
  },
  {
   "cell_type": "code",
   "execution_count": null,
   "id": "8d8f478a-e8d8-40f4-9224-f833bf80707f",
   "metadata": {},
   "outputs": [],
   "source": [
    "# Split the data into training and testing sets\n",
    "X_train, X_test, y_train, y_test = train_test_split(df.iloc[:, :-1], df.iloc[:, -1], test_size=0.2, random_state=123)"
   ]
  },
  {
   "cell_type": "markdown",
   "id": "fb25d1b7-1ccd-4b16-949f-14d2c3c6eed7",
   "metadata": {},
   "source": [
    "Train a logistic regression model: The `LogisticRegression()` function is used to create a logistic regression model, which is then trained on the training set using the `fit()` method."
   ]
  },
  {
   "cell_type": "code",
   "execution_count": null,
   "id": "e46ba21d-a13f-432d-bb32-60b7915450c9",
   "metadata": {},
   "outputs": [],
   "source": [
    "# Train a logistic regression model\n",
    "model = LogisticRegression(random_state=123)\n",
    "model.fit(X_train, y_train)"
   ]
  },
  {
   "cell_type": "markdown",
   "id": "890f017d-3b5c-4f77-a3ec-6f6097f89113",
   "metadata": {},
   "source": [
    "Evaluate the model on the testing set: The trained model is used to make predictions on the testing set using the `predict()` method, and the accuracy of the predictions is calculated using `accuracy_score()` from scikit-learn."
   ]
  },
  {
   "cell_type": "code",
   "execution_count": null,
   "id": "8540b172-d393-4bbc-a03c-f8c94199da95",
   "metadata": {},
   "outputs": [],
   "source": [
    "# Evaluate the model on the testing set\n",
    "y_pred = model.predict(X_test)\n",
    "accuracy = accuracy_score(y_test, y_pred)\n",
    "# Print the model accuracy\n",
    "print(f\"Model accuracy: {accuracy:.2f}\")"
   ]
  },
  {
   "cell_type": "markdown",
   "id": "50b4a2ce-20f5-4d4d-8a42-5b8836748940",
   "metadata": {},
   "source": [
    "Visualize the model predictions on the testing set: The `plt.scatter()` function is used again to create a scatter plot of the testing set predictions, with different colors for each predicted class. The resulting plot is saved to a PNG file using `plt.savefig()`."
   ]
  },
  {
   "cell_type": "markdown",
   "id": "461e0d94-32aa-4da5-81da-f5a919cf8132",
   "metadata": {},
   "source": [
    "![Predictions.png](predictions.png)"
   ]
  },
  {
   "cell_type": "code",
   "execution_count": null,
   "id": "77b4622b-d75e-4ee7-b4a1-e280f9e4748c",
   "metadata": {},
   "outputs": [],
   "source": []
  }
 ],
 "metadata": {
  "kernelspec": {
   "display_name": "Python [conda env:dstoolbox]",
   "language": "python",
   "name": "conda-env-dstoolbox-py"
  },
  "language_info": {
   "codemirror_mode": {
    "name": "ipython",
    "version": 3
   },
   "file_extension": ".py",
   "mimetype": "text/x-python",
   "name": "python",
   "nbconvert_exporter": "python",
   "pygments_lexer": "ipython3",
   "version": "3.12.4"
  }
 },
 "nbformat": 4,
 "nbformat_minor": 5
}
